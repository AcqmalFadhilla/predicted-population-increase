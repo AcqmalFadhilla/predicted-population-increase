{
  "cells": [
    {
      "cell_type": "markdown",
      "source": [
        "Menginstall kaggle supaya bisah memakai kaggle api"
      ],
      "metadata": {
        "id": "ueJIG6q4fdFR"
      }
    },
    {
      "cell_type": "code",
      "execution_count": 1,
      "metadata": {
        "colab": {
          "base_uri": "https://localhost:8080/"
        },
        "id": "6TtPKBhIRotK",
        "outputId": "e02e0921-9b08-4377-e71a-f382dd301f75"
      },
      "outputs": [
        {
          "output_type": "stream",
          "name": "stdout",
          "text": [
            "Looking in indexes: https://pypi.org/simple, https://us-python.pkg.dev/colab-wheels/public/simple/\n",
            "Requirement already satisfied: kaggle in /usr/local/lib/python3.7/dist-packages (1.5.12)\n",
            "Requirement already satisfied: urllib3 in /usr/local/lib/python3.7/dist-packages (from kaggle) (1.24.3)\n",
            "Requirement already satisfied: python-dateutil in /usr/local/lib/python3.7/dist-packages (from kaggle) (2.8.2)\n",
            "Requirement already satisfied: certifi in /usr/local/lib/python3.7/dist-packages (from kaggle) (2022.9.24)\n",
            "Requirement already satisfied: tqdm in /usr/local/lib/python3.7/dist-packages (from kaggle) (4.64.1)\n",
            "Requirement already satisfied: python-slugify in /usr/local/lib/python3.7/dist-packages (from kaggle) (6.1.2)\n",
            "Requirement already satisfied: six>=1.10 in /usr/local/lib/python3.7/dist-packages (from kaggle) (1.15.0)\n",
            "Requirement already satisfied: requests in /usr/local/lib/python3.7/dist-packages (from kaggle) (2.23.0)\n",
            "Requirement already satisfied: text-unidecode>=1.3 in /usr/local/lib/python3.7/dist-packages (from python-slugify->kaggle) (1.3)\n",
            "Requirement already satisfied: chardet<4,>=3.0.2 in /usr/local/lib/python3.7/dist-packages (from requests->kaggle) (3.0.4)\n",
            "Requirement already satisfied: idna<3,>=2.5 in /usr/local/lib/python3.7/dist-packages (from requests->kaggle) (2.10)\n"
          ]
        }
      ],
      "source": [
        "!pip install kaggle"
      ]
    },
    {
      "cell_type": "markdown",
      "source": [
        "memakai kaggle api dengan mengimport kaggle.json akun"
      ],
      "metadata": {
        "id": "q_DYDTS3fkAV"
      }
    },
    {
      "cell_type": "code",
      "execution_count": 2,
      "metadata": {
        "id": "-NYfG7rpR0LI"
      },
      "outputs": [],
      "source": [
        "! chmod 600 /content/kaggle.json"
      ]
    },
    {
      "cell_type": "markdown",
      "source": [
        "memanggil kaggle api dataset"
      ],
      "metadata": {
        "id": "xDle6384fptX"
      }
    },
    {
      "cell_type": "code",
      "execution_count": 3,
      "metadata": {
        "colab": {
          "base_uri": "https://localhost:8080/"
        },
        "id": "8OAnNfQ5Scgp",
        "outputId": "3e973125-0e17-4865-fb00-9c38563c8a07"
      },
      "outputs": [
        {
          "output_type": "stream",
          "name": "stdout",
          "text": [
            "Downloading population-time-series-data.zip to /content\n",
            "\r  0% 0.00/8.04k [00:00<?, ?B/s]\n",
            "\r100% 8.04k/8.04k [00:00<00:00, 8.32MB/s]\n"
          ]
        }
      ],
      "source": [
        "! KAGGLE_CONFIG_DIR=/content/ kaggle datasets download -d census/population-time-series-data"
      ]
    },
    {
      "cell_type": "markdown",
      "source": [
        "Mengextrak dataset dari format zip"
      ],
      "metadata": {
        "id": "-p_daFcLfuB6"
      }
    },
    {
      "cell_type": "code",
      "execution_count": 4,
      "metadata": {
        "id": "w3K0ySs2Ubh-"
      },
      "outputs": [],
      "source": [
        "import os\n",
        "import zipfile\n",
        "\n",
        "zip_r = zipfile.ZipFile(\"/content/population-time-series-data.zip\", \"r\")\n",
        "zip_r.extractall()\n",
        "zip_r.close()"
      ]
    },
    {
      "cell_type": "markdown",
      "source": [
        "Mengimpor semua library yang di pakai"
      ],
      "metadata": {
        "id": "QTq74Wq8f44h"
      }
    },
    {
      "cell_type": "code",
      "execution_count": 5,
      "metadata": {
        "id": "hJjKCDsqUz-m"
      },
      "outputs": [],
      "source": [
        "import pandas as pd\n",
        "import seaborn as sns\n",
        "import matplotlib.pyplot as plt\n",
        "import numpy as np\n",
        "import tensorflow as tf\n",
        "\n",
        "from tensorflow import keras\n",
        "from sklearn.model_selection import train_test_split\n",
        "from sklearn.preprocessing import StandardScaler\n",
        "from keras.layers import Dense, LSTM\n",
        "from sklearn.linear_model import LinearRegression\n",
        "from sklearn.svm import SVR"
      ]
    },
    {
      "cell_type": "markdown",
      "source": [
        "Membaca dataset dengan menggunakan library pandas"
      ],
      "metadata": {
        "id": "a-Sz_LUcf9WP"
      }
    },
    {
      "cell_type": "code",
      "execution_count": 6,
      "metadata": {
        "id": "hNxbw1jgVEz9"
      },
      "outputs": [],
      "source": [
        "df = pd.read_csv(\"/content/POP.csv\")"
      ]
    },
    {
      "cell_type": "markdown",
      "source": [
        "memanggil sebagaian dataset(5 teratas)"
      ],
      "metadata": {
        "id": "IHenBIuogGLN"
      }
    },
    {
      "cell_type": "code",
      "execution_count": 7,
      "metadata": {
        "colab": {
          "base_uri": "https://localhost:8080/",
          "height": 206
        },
        "id": "vJ9LR42WVMhH",
        "outputId": "33dfeb37-7edd-4638-dd4f-13fe7ee40967"
      },
      "outputs": [
        {
          "output_type": "execute_result",
          "data": {
            "text/plain": [
              "  realtime_start     value        date realtime_end\n",
              "0     2019-12-06  156309.0  1952-01-01   2019-12-06\n",
              "1     2019-12-06  156527.0  1952-02-01   2019-12-06\n",
              "2     2019-12-06  156731.0  1952-03-01   2019-12-06\n",
              "3     2019-12-06  156943.0  1952-04-01   2019-12-06\n",
              "4     2019-12-06  157140.0  1952-05-01   2019-12-06"
            ],
            "text/html": [
              "\n",
              "  <div id=\"df-4572e9f7-5201-452b-9a3f-f1825d1f7ea5\">\n",
              "    <div class=\"colab-df-container\">\n",
              "      <div>\n",
              "<style scoped>\n",
              "    .dataframe tbody tr th:only-of-type {\n",
              "        vertical-align: middle;\n",
              "    }\n",
              "\n",
              "    .dataframe tbody tr th {\n",
              "        vertical-align: top;\n",
              "    }\n",
              "\n",
              "    .dataframe thead th {\n",
              "        text-align: right;\n",
              "    }\n",
              "</style>\n",
              "<table border=\"1\" class=\"dataframe\">\n",
              "  <thead>\n",
              "    <tr style=\"text-align: right;\">\n",
              "      <th></th>\n",
              "      <th>realtime_start</th>\n",
              "      <th>value</th>\n",
              "      <th>date</th>\n",
              "      <th>realtime_end</th>\n",
              "    </tr>\n",
              "  </thead>\n",
              "  <tbody>\n",
              "    <tr>\n",
              "      <th>0</th>\n",
              "      <td>2019-12-06</td>\n",
              "      <td>156309.0</td>\n",
              "      <td>1952-01-01</td>\n",
              "      <td>2019-12-06</td>\n",
              "    </tr>\n",
              "    <tr>\n",
              "      <th>1</th>\n",
              "      <td>2019-12-06</td>\n",
              "      <td>156527.0</td>\n",
              "      <td>1952-02-01</td>\n",
              "      <td>2019-12-06</td>\n",
              "    </tr>\n",
              "    <tr>\n",
              "      <th>2</th>\n",
              "      <td>2019-12-06</td>\n",
              "      <td>156731.0</td>\n",
              "      <td>1952-03-01</td>\n",
              "      <td>2019-12-06</td>\n",
              "    </tr>\n",
              "    <tr>\n",
              "      <th>3</th>\n",
              "      <td>2019-12-06</td>\n",
              "      <td>156943.0</td>\n",
              "      <td>1952-04-01</td>\n",
              "      <td>2019-12-06</td>\n",
              "    </tr>\n",
              "    <tr>\n",
              "      <th>4</th>\n",
              "      <td>2019-12-06</td>\n",
              "      <td>157140.0</td>\n",
              "      <td>1952-05-01</td>\n",
              "      <td>2019-12-06</td>\n",
              "    </tr>\n",
              "  </tbody>\n",
              "</table>\n",
              "</div>\n",
              "      <button class=\"colab-df-convert\" onclick=\"convertToInteractive('df-4572e9f7-5201-452b-9a3f-f1825d1f7ea5')\"\n",
              "              title=\"Convert this dataframe to an interactive table.\"\n",
              "              style=\"display:none;\">\n",
              "        \n",
              "  <svg xmlns=\"http://www.w3.org/2000/svg\" height=\"24px\"viewBox=\"0 0 24 24\"\n",
              "       width=\"24px\">\n",
              "    <path d=\"M0 0h24v24H0V0z\" fill=\"none\"/>\n",
              "    <path d=\"M18.56 5.44l.94 2.06.94-2.06 2.06-.94-2.06-.94-.94-2.06-.94 2.06-2.06.94zm-11 1L8.5 8.5l.94-2.06 2.06-.94-2.06-.94L8.5 2.5l-.94 2.06-2.06.94zm10 10l.94 2.06.94-2.06 2.06-.94-2.06-.94-.94-2.06-.94 2.06-2.06.94z\"/><path d=\"M17.41 7.96l-1.37-1.37c-.4-.4-.92-.59-1.43-.59-.52 0-1.04.2-1.43.59L10.3 9.45l-7.72 7.72c-.78.78-.78 2.05 0 2.83L4 21.41c.39.39.9.59 1.41.59.51 0 1.02-.2 1.41-.59l7.78-7.78 2.81-2.81c.8-.78.8-2.07 0-2.86zM5.41 20L4 18.59l7.72-7.72 1.47 1.35L5.41 20z\"/>\n",
              "  </svg>\n",
              "      </button>\n",
              "      \n",
              "  <style>\n",
              "    .colab-df-container {\n",
              "      display:flex;\n",
              "      flex-wrap:wrap;\n",
              "      gap: 12px;\n",
              "    }\n",
              "\n",
              "    .colab-df-convert {\n",
              "      background-color: #E8F0FE;\n",
              "      border: none;\n",
              "      border-radius: 50%;\n",
              "      cursor: pointer;\n",
              "      display: none;\n",
              "      fill: #1967D2;\n",
              "      height: 32px;\n",
              "      padding: 0 0 0 0;\n",
              "      width: 32px;\n",
              "    }\n",
              "\n",
              "    .colab-df-convert:hover {\n",
              "      background-color: #E2EBFA;\n",
              "      box-shadow: 0px 1px 2px rgba(60, 64, 67, 0.3), 0px 1px 3px 1px rgba(60, 64, 67, 0.15);\n",
              "      fill: #174EA6;\n",
              "    }\n",
              "\n",
              "    [theme=dark] .colab-df-convert {\n",
              "      background-color: #3B4455;\n",
              "      fill: #D2E3FC;\n",
              "    }\n",
              "\n",
              "    [theme=dark] .colab-df-convert:hover {\n",
              "      background-color: #434B5C;\n",
              "      box-shadow: 0px 1px 3px 1px rgba(0, 0, 0, 0.15);\n",
              "      filter: drop-shadow(0px 1px 2px rgba(0, 0, 0, 0.3));\n",
              "      fill: #FFFFFF;\n",
              "    }\n",
              "  </style>\n",
              "\n",
              "      <script>\n",
              "        const buttonEl =\n",
              "          document.querySelector('#df-4572e9f7-5201-452b-9a3f-f1825d1f7ea5 button.colab-df-convert');\n",
              "        buttonEl.style.display =\n",
              "          google.colab.kernel.accessAllowed ? 'block' : 'none';\n",
              "\n",
              "        async function convertToInteractive(key) {\n",
              "          const element = document.querySelector('#df-4572e9f7-5201-452b-9a3f-f1825d1f7ea5');\n",
              "          const dataTable =\n",
              "            await google.colab.kernel.invokeFunction('convertToInteractive',\n",
              "                                                     [key], {});\n",
              "          if (!dataTable) return;\n",
              "\n",
              "          const docLinkHtml = 'Like what you see? Visit the ' +\n",
              "            '<a target=\"_blank\" href=https://colab.research.google.com/notebooks/data_table.ipynb>data table notebook</a>'\n",
              "            + ' to learn more about interactive tables.';\n",
              "          element.innerHTML = '';\n",
              "          dataTable['output_type'] = 'display_data';\n",
              "          await google.colab.output.renderOutput(dataTable, element);\n",
              "          const docLink = document.createElement('div');\n",
              "          docLink.innerHTML = docLinkHtml;\n",
              "          element.appendChild(docLink);\n",
              "        }\n",
              "      </script>\n",
              "    </div>\n",
              "  </div>\n",
              "  "
            ]
          },
          "metadata": {},
          "execution_count": 7
        }
      ],
      "source": [
        "df.head()"
      ]
    },
    {
      "cell_type": "markdown",
      "metadata": {
        "id": "O5CXrRwfZLsP"
      },
      "source": [
        "Jumlah keseluruhan data ada 816 dan 4 kolom\n",
        "\n",
        "dengan masing kolom realtime,value,date,realtime_end"
      ]
    },
    {
      "cell_type": "markdown",
      "source": [
        "# **Data expolarations**"
      ],
      "metadata": {
        "id": "PDXaajNvyX_d"
      }
    },
    {
      "cell_type": "markdown",
      "source": [
        "mengecek jumlah keselurahan dataset dan berapa kolom"
      ],
      "metadata": {
        "id": "I6UEHmEUgLT2"
      }
    },
    {
      "cell_type": "code",
      "execution_count": 8,
      "metadata": {
        "colab": {
          "base_uri": "https://localhost:8080/"
        },
        "id": "HRxGNROMXzac",
        "outputId": "42d99d48-34e6-432a-c6bc-a47222862226"
      },
      "outputs": [
        {
          "output_type": "execute_result",
          "data": {
            "text/plain": [
              "(816, 4)"
            ]
          },
          "metadata": {},
          "execution_count": 8
        }
      ],
      "source": [
        "df.shape"
      ]
    },
    {
      "cell_type": "markdown",
      "source": [
        "mengecek kolom numerik(value) berapa countnya,mean,std,min,25%,50%,75%,dan max nya nilai dari kolom value"
      ],
      "metadata": {
        "id": "iPM4j-1HgSzw"
      }
    },
    {
      "cell_type": "code",
      "execution_count": 9,
      "metadata": {
        "colab": {
          "base_uri": "https://localhost:8080/",
          "height": 300
        },
        "id": "OSkeexiqVTGw",
        "outputId": "7eb89bc5-033f-47e8-df90-61026e2d887e"
      },
      "outputs": [
        {
          "output_type": "execute_result",
          "data": {
            "text/plain": [
              "               value\n",
              "count     816.000000\n",
              "mean   243847.767826\n",
              "std     50519.140567\n",
              "min    156309.000000\n",
              "25%    201725.250000\n",
              "50%    239557.500000\n",
              "75%    289364.250000\n",
              "max    330309.946000"
            ],
            "text/html": [
              "\n",
              "  <div id=\"df-70e23c1d-a894-4b24-8d39-277cdacab4a4\">\n",
              "    <div class=\"colab-df-container\">\n",
              "      <div>\n",
              "<style scoped>\n",
              "    .dataframe tbody tr th:only-of-type {\n",
              "        vertical-align: middle;\n",
              "    }\n",
              "\n",
              "    .dataframe tbody tr th {\n",
              "        vertical-align: top;\n",
              "    }\n",
              "\n",
              "    .dataframe thead th {\n",
              "        text-align: right;\n",
              "    }\n",
              "</style>\n",
              "<table border=\"1\" class=\"dataframe\">\n",
              "  <thead>\n",
              "    <tr style=\"text-align: right;\">\n",
              "      <th></th>\n",
              "      <th>value</th>\n",
              "    </tr>\n",
              "  </thead>\n",
              "  <tbody>\n",
              "    <tr>\n",
              "      <th>count</th>\n",
              "      <td>816.000000</td>\n",
              "    </tr>\n",
              "    <tr>\n",
              "      <th>mean</th>\n",
              "      <td>243847.767826</td>\n",
              "    </tr>\n",
              "    <tr>\n",
              "      <th>std</th>\n",
              "      <td>50519.140567</td>\n",
              "    </tr>\n",
              "    <tr>\n",
              "      <th>min</th>\n",
              "      <td>156309.000000</td>\n",
              "    </tr>\n",
              "    <tr>\n",
              "      <th>25%</th>\n",
              "      <td>201725.250000</td>\n",
              "    </tr>\n",
              "    <tr>\n",
              "      <th>50%</th>\n",
              "      <td>239557.500000</td>\n",
              "    </tr>\n",
              "    <tr>\n",
              "      <th>75%</th>\n",
              "      <td>289364.250000</td>\n",
              "    </tr>\n",
              "    <tr>\n",
              "      <th>max</th>\n",
              "      <td>330309.946000</td>\n",
              "    </tr>\n",
              "  </tbody>\n",
              "</table>\n",
              "</div>\n",
              "      <button class=\"colab-df-convert\" onclick=\"convertToInteractive('df-70e23c1d-a894-4b24-8d39-277cdacab4a4')\"\n",
              "              title=\"Convert this dataframe to an interactive table.\"\n",
              "              style=\"display:none;\">\n",
              "        \n",
              "  <svg xmlns=\"http://www.w3.org/2000/svg\" height=\"24px\"viewBox=\"0 0 24 24\"\n",
              "       width=\"24px\">\n",
              "    <path d=\"M0 0h24v24H0V0z\" fill=\"none\"/>\n",
              "    <path d=\"M18.56 5.44l.94 2.06.94-2.06 2.06-.94-2.06-.94-.94-2.06-.94 2.06-2.06.94zm-11 1L8.5 8.5l.94-2.06 2.06-.94-2.06-.94L8.5 2.5l-.94 2.06-2.06.94zm10 10l.94 2.06.94-2.06 2.06-.94-2.06-.94-.94-2.06-.94 2.06-2.06.94z\"/><path d=\"M17.41 7.96l-1.37-1.37c-.4-.4-.92-.59-1.43-.59-.52 0-1.04.2-1.43.59L10.3 9.45l-7.72 7.72c-.78.78-.78 2.05 0 2.83L4 21.41c.39.39.9.59 1.41.59.51 0 1.02-.2 1.41-.59l7.78-7.78 2.81-2.81c.8-.78.8-2.07 0-2.86zM5.41 20L4 18.59l7.72-7.72 1.47 1.35L5.41 20z\"/>\n",
              "  </svg>\n",
              "      </button>\n",
              "      \n",
              "  <style>\n",
              "    .colab-df-container {\n",
              "      display:flex;\n",
              "      flex-wrap:wrap;\n",
              "      gap: 12px;\n",
              "    }\n",
              "\n",
              "    .colab-df-convert {\n",
              "      background-color: #E8F0FE;\n",
              "      border: none;\n",
              "      border-radius: 50%;\n",
              "      cursor: pointer;\n",
              "      display: none;\n",
              "      fill: #1967D2;\n",
              "      height: 32px;\n",
              "      padding: 0 0 0 0;\n",
              "      width: 32px;\n",
              "    }\n",
              "\n",
              "    .colab-df-convert:hover {\n",
              "      background-color: #E2EBFA;\n",
              "      box-shadow: 0px 1px 2px rgba(60, 64, 67, 0.3), 0px 1px 3px 1px rgba(60, 64, 67, 0.15);\n",
              "      fill: #174EA6;\n",
              "    }\n",
              "\n",
              "    [theme=dark] .colab-df-convert {\n",
              "      background-color: #3B4455;\n",
              "      fill: #D2E3FC;\n",
              "    }\n",
              "\n",
              "    [theme=dark] .colab-df-convert:hover {\n",
              "      background-color: #434B5C;\n",
              "      box-shadow: 0px 1px 3px 1px rgba(0, 0, 0, 0.15);\n",
              "      filter: drop-shadow(0px 1px 2px rgba(0, 0, 0, 0.3));\n",
              "      fill: #FFFFFF;\n",
              "    }\n",
              "  </style>\n",
              "\n",
              "      <script>\n",
              "        const buttonEl =\n",
              "          document.querySelector('#df-70e23c1d-a894-4b24-8d39-277cdacab4a4 button.colab-df-convert');\n",
              "        buttonEl.style.display =\n",
              "          google.colab.kernel.accessAllowed ? 'block' : 'none';\n",
              "\n",
              "        async function convertToInteractive(key) {\n",
              "          const element = document.querySelector('#df-70e23c1d-a894-4b24-8d39-277cdacab4a4');\n",
              "          const dataTable =\n",
              "            await google.colab.kernel.invokeFunction('convertToInteractive',\n",
              "                                                     [key], {});\n",
              "          if (!dataTable) return;\n",
              "\n",
              "          const docLinkHtml = 'Like what you see? Visit the ' +\n",
              "            '<a target=\"_blank\" href=https://colab.research.google.com/notebooks/data_table.ipynb>data table notebook</a>'\n",
              "            + ' to learn more about interactive tables.';\n",
              "          element.innerHTML = '';\n",
              "          dataTable['output_type'] = 'display_data';\n",
              "          await google.colab.output.renderOutput(dataTable, element);\n",
              "          const docLink = document.createElement('div');\n",
              "          docLink.innerHTML = docLinkHtml;\n",
              "          element.appendChild(docLink);\n",
              "        }\n",
              "      </script>\n",
              "    </div>\n",
              "  </div>\n",
              "  "
            ]
          },
          "metadata": {},
          "execution_count": 9
        }
      ],
      "source": [
        "df.describe()"
      ]
    },
    {
      "cell_type": "markdown",
      "metadata": {
        "id": "HZb_ie9VZ9qE"
      },
      "source": [
        "dataset tidak memiliki missing value"
      ]
    },
    {
      "cell_type": "code",
      "execution_count": 10,
      "metadata": {
        "colab": {
          "base_uri": "https://localhost:8080/"
        },
        "id": "0aQKIc9-Vang",
        "outputId": "de105ad4-dfc1-4384-cb1a-cdbebc18a814"
      },
      "outputs": [
        {
          "output_type": "stream",
          "name": "stdout",
          "text": [
            "nilai 0 di kolom value: 0\n",
            "nilai null di dataset: realtime_start    0\n",
            "value             0\n",
            "date              0\n",
            "realtime_end      0\n",
            "dtype: int64\n"
          ]
        }
      ],
      "source": [
        "x = (df.value == 0).sum()\n",
        "y = df.isnull().sum()\n",
        "\n",
        "print(\"nilai 0 di kolom value:\", x)\n",
        "print(\"nilai null di dataset:\", y)"
      ]
    },
    {
      "cell_type": "markdown",
      "metadata": {
        "id": "VsdcNZfVbAL3"
      },
      "source": [
        "Dataset tidak memiliki outlinear"
      ]
    },
    {
      "cell_type": "code",
      "execution_count": 11,
      "metadata": {
        "colab": {
          "base_uri": "https://localhost:8080/",
          "height": 296
        },
        "id": "lwJGwpN1X9bM",
        "outputId": "118db0e3-96f4-4d60-937b-843d3ad5dc8b"
      },
      "outputs": [
        {
          "output_type": "execute_result",
          "data": {
            "text/plain": [
              "<matplotlib.axes._subplots.AxesSubplot at 0x7f70ac625910>"
            ]
          },
          "metadata": {},
          "execution_count": 11
        },
        {
          "output_type": "display_data",
          "data": {
            "text/plain": [
              "<Figure size 432x288 with 1 Axes>"
            ],
            "image/png": "[encoded data removed]"
          },
          "metadata": {
            "needs_background": "light"
          }
        }
      ],
      "source": [
        "sns.boxplot(x = df[\"value\"])"
      ]
    },
    {
      "cell_type": "markdown",
      "source": [
        "Mengecek tipe data setiap kolom"
      ],
      "metadata": {
        "id": "qYgvhtGOglOW"
      }
    },
    {
      "cell_type": "code",
      "execution_count": 12,
      "metadata": {
        "colab": {
          "base_uri": "https://localhost:8080/"
        },
        "id": "X938htk1c0Eu",
        "outputId": "95e76ecc-0a84-4e23-ad26-510b7fb54c01"
      },
      "outputs": [
        {
          "output_type": "stream",
          "name": "stdout",
          "text": [
            "<class 'pandas.core.frame.DataFrame'>\n",
            "RangeIndex: 816 entries, 0 to 815\n",
            "Data columns (total 4 columns):\n",
            " #   Column          Non-Null Count  Dtype  \n",
            "---  ------          --------------  -----  \n",
            " 0   realtime_start  816 non-null    object \n",
            " 1   value           816 non-null    float64\n",
            " 2   date            816 non-null    object \n",
            " 3   realtime_end    816 non-null    object \n",
            "dtypes: float64(1), object(3)\n",
            "memory usage: 25.6+ KB\n"
          ]
        }
      ],
      "source": [
        "df.info()"
      ]
    },
    {
      "cell_type": "markdown",
      "source": [
        "mnerubah type data kolom date menjadi date time"
      ],
      "metadata": {
        "id": "Q3ZxXs-4gppb"
      }
    },
    {
      "cell_type": "code",
      "execution_count": 13,
      "metadata": {
        "id": "NhRV2a9Ego9B"
      },
      "outputs": [],
      "source": [
        "df[\"date\"] = pd.to_datetime(df[\"date\"])"
      ]
    },
    {
      "cell_type": "markdown",
      "source": [
        "Membuat visualisasi dataset dengan x nya date dan y nya value"
      ],
      "metadata": {
        "id": "Yz8C1aFrgvNj"
      }
    },
    {
      "cell_type": "code",
      "execution_count": 14,
      "metadata": {
        "colab": {
          "base_uri": "https://localhost:8080/",
          "height": 296
        },
        "id": "LEUv9QFLg_TQ",
        "outputId": "c3a78024-60f4-496c-8189-cc055227a9f7"
      },
      "outputs": [
        {
          "output_type": "execute_result",
          "data": {
            "text/plain": [
              "<matplotlib.axes._subplots.AxesSubplot at 0x7f70ac0f23d0>"
            ]
          },
          "metadata": {},
          "execution_count": 14
        },
        {
          "output_type": "display_data",
          "data": {
            "text/plain": [
              "<Figure size 432x288 with 1 Axes>"
            ],
            "image/png": "[encoded data removed]"
          },
          "metadata": {
            "needs_background": "light"
          }
        }
      ],
      "source": [
        "sns.lineplot(x=\"date\", y=\"value\", data=df)"
      ]
    },
    {
      "cell_type": "markdown",
      "metadata": {
        "id": "3ejwx6JWhTBL"
      },
      "source": [
        " # **Data preprocessing**"
      ]
    },
    {
      "cell_type": "markdown",
      "source": [
        "membuat windowed dengan memakai cara function untuk memudahkan nantinya"
      ],
      "metadata": {
        "id": "yYRAyq5Zg2mh"
      }
    },
    {
      "cell_type": "code",
      "execution_count": 15,
      "metadata": {
        "id": "FhnebN34hMxt"
      },
      "outputs": [],
      "source": [
        "def windowed_dataset(target, window=1, offset=0):\n",
        "    feature_new, target_new = [], []\n",
        "    target_np = target.to_numpy()\n",
        "    for index in range(window, target.shape[0] - offset):\n",
        "        feature_new.append(target_np[index - window: index])\n",
        "        target_new.append(target_np[index+offset])\n",
        "    return np.array(feature_new), np.array(target_new)\n"
      ]
    },
    {
      "cell_type": "markdown",
      "source": [
        "windowed_dataset digunakan untuk membuat deret waktu berdasarkan kolom target yang kita inginkan. Ini mengasumsikan data sudah diurutkan berdasarkan tanggal dan nilainya bukan nol"
      ],
      "metadata": {
        "id": "iJdg63gMhqdN"
      }
    },
    {
      "cell_type": "code",
      "execution_count": 16,
      "metadata": {
        "colab": {
          "base_uri": "https://localhost:8080/"
        },
        "id": "B1F45E3WLAv7",
        "outputId": "1f4418e0-004c-47b8-a97f-12f3bbc39f34"
      },
      "outputs": [
        {
          "output_type": "stream",
          "name": "stdout",
          "text": [
            "[156309. 156527. 156731. 156943. 157140.]\n",
            "157343.0\n",
            "  realtime_start     value       date realtime_end\n",
            "0     2019-12-06  156309.0 1952-01-01   2019-12-06\n",
            "1     2019-12-06  156527.0 1952-02-01   2019-12-06\n",
            "2     2019-12-06  156731.0 1952-03-01   2019-12-06\n",
            "3     2019-12-06  156943.0 1952-04-01   2019-12-06\n",
            "4     2019-12-06  157140.0 1952-05-01   2019-12-06\n",
            "5     2019-12-06  157343.0 1952-06-01   2019-12-06\n"
          ]
        }
      ],
      "source": [
        "df = df.sort_values(by=['date'])\n",
        "window = 5\n",
        "feature, target = windowed_dataset(df['value'], window=window)\n",
        "print(feature[0])\n",
        "print(target[0])\n",
        "print(df.head(6))"
      ]
    },
    {
      "cell_type": "markdown",
      "source": [
        "Melakukan standarisasi dengan metode scaler"
      ],
      "metadata": {
        "id": "AvnMuXaguXPN"
      }
    },
    {
      "cell_type": "markdown",
      "source": [
        "Melakukan standart scaler feature untuk mendapatkan hasil terbaik di model"
      ],
      "metadata": {
        "id": "j28OLn62h2yD"
      }
    },
    {
      "cell_type": "code",
      "execution_count": 17,
      "metadata": {
        "colab": {
          "base_uri": "https://localhost:8080/"
        },
        "id": "csAG07JNLrwL",
        "outputId": "03b9d1de-914d-42be-c8a2-bcea85c32961"
      },
      "outputs": [
        {
          "output_type": "execute_result",
          "data": {
            "text/plain": [
              "array([-1.73366182, -1.73364508, -1.73390782, -1.73401296, -1.73441917])"
            ]
          },
          "metadata": {},
          "execution_count": 17
        }
      ],
      "source": [
        "#scaler faeture\n",
        "scaler_feature = StandardScaler()\n",
        "feature_shape = feature.shape\n",
        "feature_scaled = scaler_feature.fit_transform(feature)\n",
        "feature_scaled[0]"
      ]
    },
    {
      "cell_type": "markdown",
      "source": [
        "Melakukan standart scaler target untuk mendapatkan hasil terbaik di model"
      ],
      "metadata": {
        "id": "j6xPuSLSiBDM"
      }
    },
    {
      "cell_type": "code",
      "execution_count": 18,
      "metadata": {
        "colab": {
          "base_uri": "https://localhost:8080/"
        },
        "id": "d1dLfiehNLYK",
        "outputId": "ba056553-a263-4548-b1e6-eb1608c25aab"
      },
      "outputs": [
        {
          "output_type": "execute_result",
          "data": {
            "text/plain": [
              "array([[-1.73471032],\n",
              "       [-1.7305251 ],\n",
              "       [-1.72564235],\n",
              "       [-1.7205603 ],\n",
              "       [-1.71551811]])"
            ]
          },
          "metadata": {},
          "execution_count": 18
        }
      ],
      "source": [
        "#scaler target\n",
        "scaler_target = StandardScaler()\n",
        "target_scaled = scaler_target.fit_transform(target.reshape(-1,1))\n",
        "target_scaled[0: 5]"
      ]
    },
    {
      "cell_type": "markdown",
      "source": [
        "Membagi dataset dengan perbandingan 8:2 dengan 8 data train dan 2 data test"
      ],
      "metadata": {
        "id": "twy4xdXkuIdT"
      }
    },
    {
      "cell_type": "code",
      "execution_count": 19,
      "metadata": {
        "id": "Wg5kEcmlO4G3"
      },
      "outputs": [],
      "source": [
        "def train_test(feature, target, perc_train = 0.8):\n",
        "    size_train = int(len(feature) * perc_train)\n",
        "\n",
        "    x_train = feature[0:size_train]\n",
        "    y_train = target[0:size_train]\n",
        "\n",
        "    x_test = feature[size_train: len(feature)]\n",
        "    y_test = target[size_train: len(feature)]\n",
        "\n",
        "    return x_train, x_test, y_train, y_test\n",
        "    \n",
        "x_train, x_test, y_train, y_test = train_test(feature_scaled, target_scaled)"
      ]
    },
    {
      "cell_type": "markdown",
      "source": [
        "Visualisai dataset yang telah di bagi anatara data training dan data test"
      ],
      "metadata": {
        "id": "IRKm7iGziRaz"
      }
    },
    {
      "cell_type": "code",
      "execution_count": 20,
      "metadata": {
        "colab": {
          "base_uri": "https://localhost:8080/",
          "height": 296
        },
        "id": "uYXfi_hGK7VG",
        "outputId": "06eca69e-b13a-47f3-dffc-52d4aaa88c32"
      },
      "outputs": [
        {
          "output_type": "execute_result",
          "data": {
            "text/plain": [
              "Text(0.5, 0, 'Date')"
            ]
          },
          "metadata": {},
          "execution_count": 20
        },
        {
          "output_type": "display_data",
          "data": {
            "text/plain": [
              "<Figure size 432x288 with 1 Axes>"
            ],
            "image/png": "[encoded data removed]"
          },
          "metadata": {
            "needs_background": "light"
          }
        }
      ],
      "source": [
        "sns.lineplot(x=df['date'].iloc[window:len(y_train) + window], y=y_train[:,0], label='Train')\n",
        "sns.lineplot(x=df['date'].iloc[len(y_train) + window:], y=y_test[:,0], label='Test')\n",
        "plt.ylabel('Population')\n",
        "plt.xlabel('Date')"
      ]
    },
    {
      "cell_type": "markdown",
      "metadata": {
        "id": "jT8P-0ufRCMM"
      },
      "source": [
        "# **Model Development**\n",
        "\n",
        "Dalam development saya akan memakai algoritma \n",
        "1.   Neural Network Regression\n",
        "2.   Linear Regression\n",
        "3.   SVR"
      ]
    },
    {
      "cell_type": "markdown",
      "metadata": {
        "id": "7QPnBXsZilvn"
      },
      "source": [
        "1. Neural Network Regression(LSTM)"
      ]
    },
    {
      "cell_type": "markdown",
      "source": [
        "model menggunakan sequntial dengan 5 layer"
      ],
      "metadata": {
        "id": "7H2Jo8biifub"
      }
    },
    {
      "cell_type": "code",
      "execution_count": 21,
      "metadata": {
        "id": "xAQ4rMbFRBtt",
        "colab": {
          "base_uri": "https://localhost:8080/"
        },
        "outputId": "667cb552-5d1e-466f-c466-5b4bc60bf6bc"
      },
      "outputs": [
        {
          "output_type": "stream",
          "name": "stdout",
          "text": [
            "Model: \"sequential\"\n",
            "_________________________________________________________________\n",
            " Layer (type)                Output Shape              Param #   \n",
            "=================================================================\n",
            " lstm (LSTM)                 (None, 128)               66560     \n",
            "                                                                 \n",
            " dropout (Dropout)           (None, 128)               0         \n",
            "                                                                 \n",
            " dense (Dense)               (None, 128)               16512     \n",
            "                                                                 \n",
            " dropout_1 (Dropout)         (None, 128)               0         \n",
            "                                                                 \n",
            " dense_1 (Dense)             (None, 1)                 129       \n",
            "                                                                 \n",
            "=================================================================\n",
            "Total params: 83,201\n",
            "Trainable params: 83,201\n",
            "Non-trainable params: 0\n",
            "_________________________________________________________________\n"
          ]
        }
      ],
      "source": [
        "x_train, X_test = x_train.reshape(-1,window,1), x_test.reshape(-1,window,1)\n",
        "\n",
        "model = keras.Sequential()\n",
        "model.add(keras.layers.LSTM(128, input_shape=(x_train.shape[1], x_train.shape[2])))\n",
        "model.add(keras.layers.Dropout(.4))\n",
        "model.add(keras.layers.Dense(128, activation=\"relu\"))\n",
        "model.add(keras.layers.Dropout(.2))\n",
        "model.add(keras.layers.Dense(units=1))\n",
        "\n",
        "model.compile(loss='mean_squared_error',\n",
        "              optimizer='RMSProp',\n",
        "              metrics=[\"mae\"])\n",
        "model.summary()"
      ]
    },
    {
      "cell_type": "markdown",
      "source": [
        "melakukan data pelatihan"
      ],
      "metadata": {
        "id": "U0T_lK60iwe8"
      }
    },
    {
      "cell_type": "code",
      "execution_count": 22,
      "metadata": {
        "colab": {
          "base_uri": "https://localhost:8080/"
        },
        "id": "AVOj-moSEeHT",
        "outputId": "d2dfaccf-aee7-40b0-ae79-f14b73305d16"
      },
      "outputs": [
        {
          "output_type": "stream",
          "name": "stdout",
          "text": [
            "Epoch 1/10\n",
            "21/21 [==============================] - 8s 29ms/step - loss: 0.1119 - mae: 0.2092 - val_loss: 0.0014 - val_mae: 0.0302\n",
            "Epoch 2/10\n",
            "21/21 [==============================] - 0s 6ms/step - loss: 0.0175 - mae: 0.0922 - val_loss: 0.0143 - val_mae: 0.1158\n",
            "Epoch 3/10\n",
            "21/21 [==============================] - 0s 7ms/step - loss: 0.0135 - mae: 0.0829 - val_loss: 0.0353 - val_mae: 0.1846\n",
            "Epoch 4/10\n",
            "21/21 [==============================] - 0s 6ms/step - loss: 0.0177 - mae: 0.0937 - val_loss: 0.0046 - val_mae: 0.0636\n",
            "Epoch 5/10\n",
            "21/21 [==============================] - 0s 8ms/step - loss: 0.0143 - mae: 0.0831 - val_loss: 0.0087 - val_mae: 0.0901\n",
            "Epoch 6/10\n",
            "21/21 [==============================] - 0s 7ms/step - loss: 0.0128 - mae: 0.0797 - val_loss: 0.0250 - val_mae: 0.1581\n",
            "Epoch 7/10\n",
            "21/21 [==============================] - 0s 6ms/step - loss: 0.0121 - mae: 0.0785 - val_loss: 0.0026 - val_mae: 0.0472\n",
            "Epoch 8/10\n",
            "21/21 [==============================] - 0s 6ms/step - loss: 0.0131 - mae: 0.0823 - val_loss: 0.0240 - val_mae: 0.1549\n",
            "Epoch 9/10\n",
            "21/21 [==============================] - 0s 7ms/step - loss: 0.0150 - mae: 0.0857 - val_loss: 1.9757e-04 - val_mae: 0.0113\n",
            "Epoch 10/10\n",
            "21/21 [==============================] - 0s 6ms/step - loss: 0.0140 - mae: 0.0834 - val_loss: 1.2989e-04 - val_mae: 0.0099\n"
          ]
        }
      ],
      "source": [
        "history = model.fit(x_train, y_train, validation_data=(x_test, y_test), epochs=10)"
      ]
    },
    {
      "cell_type": "markdown",
      "source": [
        "visualisai hasil latihan dari model Neural Network Regeression"
      ],
      "metadata": {
        "id": "ywpycVGVi3mf"
      }
    },
    {
      "cell_type": "code",
      "execution_count": 23,
      "metadata": {
        "colab": {
          "base_uri": "https://localhost:8080/",
          "height": 296
        },
        "id": "GJtk5mVjdTtD",
        "outputId": "bbcdd9ed-32bc-4f44-be2d-c3e35f51bf19"
      },
      "outputs": [
        {
          "output_type": "execute_result",
          "data": {
            "text/plain": [
              "Text(0, 0.5, 'cost')"
            ]
          },
          "metadata": {},
          "execution_count": 23
        },
        {
          "output_type": "display_data",
          "data": {
            "text/plain": [
              "<Figure size 432x288 with 1 Axes>"
            ],
            "image/png": "[encoded data removed]"
          },
          "metadata": {
            "needs_background": "light"
          }
        }
      ],
      "source": [
        "plt.plot(history.history[\"loss\"])\n",
        "plt.plot(history.history[\"val_loss\"])\n",
        "plt.legend([\"train\", \"validation\"])\n",
        "plt.xlabel(\"epoch\")\n",
        "plt.ylabel(\"cost\")"
      ]
    },
    {
      "cell_type": "markdown",
      "source": [
        "visaulisasi hasil prediksi dengan data test"
      ],
      "metadata": {
        "id": "AfhvU-JsjBiC"
      }
    },
    {
      "cell_type": "code",
      "source": [
        "y_predicted = model.predict(x_test)\n",
        "\n",
        "plt.plot(y_predicted,label='Prediction')\n",
        "plt.plot(y_test,label='Actual')\n",
        "plt.title(\"Model NNR with LSTM\")\n",
        "plt.legend()"
      ],
      "metadata": {
        "colab": {
          "base_uri": "https://localhost:8080/",
          "height": 298
        },
        "id": "IwjaJS2jrl7G",
        "outputId": "4987c2da-3b1c-4e6d-b24f-3a3e9651e5fe"
      },
      "execution_count": 24,
      "outputs": [
        {
          "output_type": "execute_result",
          "data": {
            "text/plain": [
              "<matplotlib.legend.Legend at 0x7f704604d550>"
            ]
          },
          "metadata": {},
          "execution_count": 24
        },
        {
          "output_type": "display_data",
          "data": {
            "text/plain": [
              "<Figure size 432x288 with 1 Axes>"
            ],
            "image/png": "[encoded data removed]"
          },
          "metadata": {
            "needs_background": "light"
          }
        }
      ]
    },
    {
      "cell_type": "markdown",
      "source": [
        "**2.Linear Regression**"
      ],
      "metadata": {
        "id": "L1N4Q5t8rdh6"
      }
    },
    {
      "cell_type": "code",
      "source": [
        "model_linear_reg = LinearRegression().fit(x_train.reshape(-1,window), y_train)\n",
        "model_linear_reg.score(x_train.reshape(-1,window), y_train)"
      ],
      "metadata": {
        "colab": {
          "base_uri": "https://localhost:8080/"
        },
        "id": "IwEEOaQa3jnn",
        "outputId": "96608d60-81f9-40c0-c505-bf2e5ae72913"
      },
      "execution_count": 33,
      "outputs": [
        {
          "output_type": "execute_result",
          "data": {
            "text/plain": [
              "0.999999732772761"
            ]
          },
          "metadata": {},
          "execution_count": 33
        }
      ]
    },
    {
      "cell_type": "code",
      "source": [
        "y_predicted = model_linear_reg.predict(x_test.reshape(-1,window))\n",
        "\n",
        "plt.plot(y_predicted, label='Prediction')\n",
        "plt.plot(y_test, label='Actual')\n",
        "plt.title(\"Model Linear Regeression\")\n",
        "plt.legend()"
      ],
      "metadata": {
        "colab": {
          "base_uri": "https://localhost:8080/",
          "height": 298
        },
        "id": "-M0J6z_0Sf8z",
        "outputId": "80a7261b-bcda-42ce-88c8-f330127a1b8d"
      },
      "execution_count": 34,
      "outputs": [
        {
          "output_type": "execute_result",
          "data": {
            "text/plain": [
              "<matplotlib.legend.Legend at 0x7f70465838d0>"
            ]
          },
          "metadata": {},
          "execution_count": 34
        },
        {
          "output_type": "display_data",
          "data": {
            "text/plain": [
              "<Figure size 432x288 with 1 Axes>"
            ],
            "image/png": "[encoded data removed]"
          },
          "metadata": {
            "needs_background": "light"
          }
        }
      ]
    },
    {
      "cell_type": "markdown",
      "source": [
        "**3.SVR**"
      ],
      "metadata": {
        "id": "ewuV0XAwuBf1"
      }
    },
    {
      "cell_type": "code",
      "source": [
        "model_svr = SVR().fit(x_train.reshape(-1,window), y_train)\n",
        "model_svr.score(x_train.reshape(-1,window), y_train)"
      ],
      "metadata": {
        "colab": {
          "base_uri": "https://localhost:8080/"
        },
        "id": "QuUDg8LZr1RE",
        "outputId": "26dc08ff-ec27-477f-a417-f10c2fbdb4d7"
      },
      "execution_count": 38,
      "outputs": [
        {
          "output_type": "stream",
          "name": "stderr",
          "text": [
            "/usr/local/lib/python3.7/dist-packages/sklearn/utils/validation.py:993: DataConversionWarning: A column-vector y was passed when a 1d array was expected. Please change the shape of y to (n_samples, ), for example using ravel().\n",
            "  y = column_or_1d(y, warn=True)\n"
          ]
        },
        {
          "output_type": "execute_result",
          "data": {
            "text/plain": [
              "0.9938395409724174"
            ]
          },
          "metadata": {},
          "execution_count": 38
        }
      ]
    },
    {
      "cell_type": "code",
      "source": [
        "y_predicted = model_svr.predict(x_test.reshape(-1,window))\n",
        "\n",
        "plt.plot(y_predicted, label=\"Prediction\")\n",
        "plt.plot(y_test, label=\"Actualo\")\n",
        "plt.title(\"Mode SVR\")\n",
        "plt.legend()"
      ],
      "metadata": {
        "colab": {
          "base_uri": "https://localhost:8080/",
          "height": 298
        },
        "id": "1sH2nRxDS8Oa",
        "outputId": "d1136373-e1aa-4459-ca45-8acd34468ec8"
      },
      "execution_count": 39,
      "outputs": [
        {
          "output_type": "execute_result",
          "data": {
            "text/plain": [
              "<matplotlib.legend.Legend at 0x7f704141e590>"
            ]
          },
          "metadata": {},
          "execution_count": 39
        },
        {
          "output_type": "display_data",
          "data": {
            "text/plain": [
              "<Figure size 432x288 with 1 Axes>"
            ],
            "image/png": "[encoded data removed]"
          },
          "metadata": {
            "needs_background": "light"
          }
        }
      ]
    },
    {
      "cell_type": "markdown",
      "source": [
        "# **Evalution**"
      ],
      "metadata": {
        "id": "RM4fQ_xeKQyb"
      }
    },
    {
      "cell_type": "markdown",
      "source": [
        "dalam hal ini saya membuat fungsi untuk menggunakan nilai sebelumnya yang dihitung untuk digunakan sebagai entri ke prediksi berikutnya, sehingga kami dapat membuat deret waktu dengan nilai prediksi!"
      ],
      "metadata": {
        "id": "nf_TPMzqjli4"
      }
    },
    {
      "cell_type": "code",
      "source": [
        "def predict_future_lstm(target, model, window, n=100):\n",
        "    new_target = target.tolist()\n",
        "    for i in range(n):\n",
        "        feature = np.array(new_target[-window:]).reshape(1,window,1)\n",
        "        target_predicted = model.predict(feature).reshape(1)\n",
        "        new_target.append(target_predicted)\n",
        "    return np.array(new_target)\n",
        "\n",
        "def predict_future(target, model, window, n=100):\n",
        "    new_target = target.tolist()\n",
        "    for i in range(n):\n",
        "        feature = np.array(new_target[-window:]).reshape(-1,window)\n",
        "        target_predicted = model.predict(feature).reshape(1)\n",
        "        new_target.append(target_predicted)\n",
        "    return np.array(new_target)\n"
      ],
      "metadata": {
        "id": "On4w0EkFKPnf"
      },
      "execution_count": 27,
      "outputs": []
    },
    {
      "cell_type": "markdown",
      "source": [
        "n adalah jumlah satuan waktu yang saya prediksi"
      ],
      "metadata": {
        "id": "NEvgJQxpjupg"
      }
    },
    {
      "cell_type": "code",
      "source": [
        "n = 100\n",
        "target_model_scaled = predict_future_lstm(target_scaled, model, window, n=n)\n",
        "target_model_linear_scaled = predict_future(target_scaled,model_linear_reg,window,n=n)\n",
        "target_model_svr_scaled = predict_future(target_scaled,model_svr,window,n=n)"
      ],
      "metadata": {
        "id": "afEaiJJmQpVH"
      },
      "execution_count": 28,
      "outputs": []
    },
    {
      "cell_type": "markdown",
      "source": [
        "membuat data visualisaso setiap model"
      ],
      "metadata": {
        "id": "Um5w8h-Hjv2b"
      }
    },
    {
      "cell_type": "code",
      "source": [
        "extra_dates = pd.date_range(df['date'].iloc[-1], periods=n + 1, freq='MS')\n",
        "extra_dates = extra_dates.to_series().reset_index(drop=True).iloc[1:]\n",
        "all_dates = pd.concat((df['date'], extra_dates), ignore_index=True)"
      ],
      "metadata": {
        "id": "yR2qldhHQ9eC"
      },
      "execution_count": 29,
      "outputs": []
    },
    {
      "cell_type": "markdown",
      "source": [
        "visualisasi nilai train,tes, dan prediksi"
      ],
      "metadata": {
        "id": "ETWskHeOj65C"
      }
    },
    {
      "cell_type": "code",
      "source": [
        "def future_chart(future_target, y_train, y_test, x_date, window, title=''):\n",
        "    original_target_size = len(y_train) + len(y_test)\n",
        "    sns.lineplot(x=x_date[window:len(y_train) + window], y=y_train[:,0], label='Train')\n",
        "    sns.lineplot(x=x_date[len(y_train) + window: original_target_size + window], y=y_test[:,0], label='Test')\n",
        "    sns.lineplot(x=x_date[original_target_size + window:], y=future_target[original_target_size:,0], label='Predicted')\n",
        "    plt.title(label=title)\n",
        "    plt.show()\n",
        "\n",
        "future_chart(target_model_scaled,  y_train, y_test, all_dates, window, title='Neural Network Regeression')\n",
        "future_chart(target_model_linear_scaled,  y_train, y_test, all_dates, window, title='Linear Regression')\n",
        "future_chart(target_model_svr_scaled,  y_train, y_test, all_dates, window, title='SVR')"
      ],
      "metadata": {
        "colab": {
          "base_uri": "https://localhost:8080/",
          "height": 809
        },
        "id": "Mn1toS2TRBCS",
        "outputId": "4bc3f116-7c5c-474f-f8a3-a8cc8b1b8f2b"
      },
      "execution_count": 30,
      "outputs": [
        {
          "output_type": "display_data",
          "data": {
            "text/plain": [
              "<Figure size 432x288 with 1 Axes>"
            ],
            "image/png": "[encoded data removed]"
          },
          "metadata": {
            "needs_background": "light"
          }
        },
        {
          "output_type": "display_data",
          "data": {
            "text/plain": [
              "<Figure size 432x288 with 1 Axes>"
            ],
            "image/png": "[encoded data removed]"
          },
          "metadata": {
            "needs_background": "light"
          }
        },
        {
          "output_type": "display_data",
          "data": {
            "text/plain": [
              "<Figure size 432x288 with 1 Axes>"
            ],
            "image/png": "[encoded data removed]"
          },
          "metadata": {
            "needs_background": "light"
          }
        }
      ]
    },
    {
      "cell_type": "markdown",
      "source": [
        "Jadi Di dapatkan bahwa dalam kasus dataset ini model yang terbaik di pake adalah Model Linear Regeression dari Neural Network regeression dan  SVR"
      ],
      "metadata": {
        "id": "LY6GclQRtO7I"
      }
    }
  ],
  "metadata": {
    "accelerator": "GPU",
    "colab": {
      "collapsed_sections": [],
      "provenance": []
    },
    "kernelspec": {
      "display_name": "Python 3",
      "name": "python3"
    },
    "language_info": {
      "name": "python"
    }
  },
  "nbformat": 4,
  "nbformat_minor": 0
}